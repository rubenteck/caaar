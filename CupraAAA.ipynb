{
 "cells": [
  {
   "cell_type": "markdown",
   "id": "9442ff03-cea7-4630-ab34-ab546e142149",
   "metadata": {},
   "source": [
    "# AAA"
   ]
  },
  {
   "cell_type": "markdown",
   "id": "d24c29a0-7c03-4d20-a75f-ece513be1ecc",
   "metadata": {},
   "source": [
    "## chargers\n",
    "- openchargemap => te weinig laders\n",
    "- chargefinder => website scrapen en niet accuraat\n",
    "- google => geen cegeka laders\n",
    "- luminus => ok voor publieke laders, prive laders enkel hoeveel en hoeveel kapot, niet vrij/busy\n",
    "- chargemap 2 => login lukt niet\n",
    "- alois heeft ook nog 1 gevonden"
   ]
  },
  {
   "cell_type": "code",
   "execution_count": 6,
   "id": "f846d787-caa9-4ab6-bf88-bb97ea77c041",
   "metadata": {},
   "outputs": [],
   "source": [
    "import requests\n",
    "from pprint import pprint"
   ]
  },
  {
   "cell_type": "code",
   "execution_count": 101,
   "id": "1d384741-d931-4d0c-bd5a-e14ad7cde64c",
   "metadata": {},
   "outputs": [],
   "source": [
    "class Charger:\n",
    "    def __init__(self, name, adress, lat, long, availability, max_watt, price):\n",
    "        self.name = name\n",
    "        self.adress = adress\n",
    "        self.lat = lat\n",
    "        self.long = long\n",
    "        self.availability = availability\n",
    "        self.max_watt = max_watt\n",
    "    \n",
    "    def isavailable(self):\n",
    "        return self.is_available == 'available'\n",
    "        \n",
    "    def __str__(self):\n",
    "        return f\"{self.name} ({self.adress}): {self.availability} (max {self.max_watt})\""
   ]
  },
  {
   "cell_type": "code",
   "execution_count": 102,
   "id": "5445617b-491d-4d2e-bf9f-cedf820e91f2",
   "metadata": {},
   "outputs": [],
   "source": [
    "def get_availability(availability):\n",
    "        match(availability):\n",
    "            case 1:\n",
    "                return 'available'\n",
    "            case 2:\n",
    "                return 'broken'\n",
    "            case 3:\n",
    "                return 'in use'\n",
    "\n",
    "def mapChargers(charger):\n",
    "    return Charger(\n",
    "        charger['evseId'], \n",
    "        charger['location']['address'], \n",
    "        charger['latitude'], \n",
    "        charger['longitude'], \n",
    "        get_availability(charger['globalStatus']), \n",
    "        charger['maxPower'],\n",
    "        0\n",
    "  )\n",
    "# name = charger['evseId']\n",
    "# adress = charger['location']['address']\n",
    "# lat = charger['latitude']\n",
    "# long = charger['longitude']\n",
    "# availability = charger['globalStatus']\n",
    "# max_watt = charger['maxPower']\n",
    "# price = charger['simpleTariff'] # obj, needs calculation"
   ]
  },
  {
   "cell_type": "code",
   "execution_count": 103,
   "id": "730290a2-c4a4-4982-a55e-c9bdfbd33ea5",
   "metadata": {},
   "outputs": [],
   "source": [
    "def refreshData():\n",
    "    urls = [\n",
    "        #r'https://luminus.evc-net.com/api/ajax?requests=%7B%220%22%3A%7B%22handler%22%3A%22%5C%5CLMS%5C%5CEV%5C%5CAsyncServices%5C%5CDashboardAsyncService%22%2C%22method%22%3A%22spotsStatusPointData%22%2C%22params%22%3A%7B%22deviceIds%22%3A%5B156888067%2C156888068%5D%2C%22tariffProvider%22%3A250%7D%7D%7D&metricKey=DeviceMap_1037'\n",
    "        r'https://luminus.evc-net.com/api/ajax?requests=%7B%220%22%3A%7B%22handler%22%3A%22%5C%5CLMS%5C%5CEV%5C%5CAsyncServices%5C%5CDashboardAsyncService%22%2C%22method%22%3A%22spotsStatusPointData%22%2C%22params%22%3A%7B%22deviceIds%22%3A%5B154435032%2C154435033%5D%2C%22tariffProvider%22%3A250%7D%7D%7D&metricKey=DeviceMap_1037'\n",
    "        #todo voeg andere chargers ook toe\n",
    "    ]\n",
    "\n",
    "    # if not chargers:\n",
    "    #     return\n",
    "    \n",
    "    # onlinePastChargers = {}\n",
    "    # for charger in chargers:\n",
    "    #     if charger.is-online():\n",
    "    #         onlinePastChargers[charger.name] = charger\n",
    "        \n",
    "    # data = [requests.get(url) for url in urls]\n",
    "    data = [a for a in x.json()[0] for x in data]\n",
    "    chargers = [mapChargers(charger) for charger in data]"
   ]
  },
  {
   "cell_type": "code",
   "execution_count": 104,
   "id": "d4d6d4d4-ae0f-4075-841b-dc3388e122de",
   "metadata": {},
   "outputs": [
    {
     "name": "stdout",
     "output_type": "stream",
     "text": [
      "BEALLEGO0020691 (Aststraat 1): in use (max 11.0 kW)\n"
     ]
    },
    {
     "ename": "AttributeError",
     "evalue": "'Charger' object has no attribute 'is_available'",
     "output_type": "error",
     "traceback": [
      "\u001b[31m---------------------------------------------------------------------------\u001b[39m",
      "\u001b[31mAttributeError\u001b[39m                            Traceback (most recent call last)",
      "\u001b[36mCell\u001b[39m\u001b[36m \u001b[39m\u001b[32mIn[104]\u001b[39m\u001b[32m, line 4\u001b[39m\n\u001b[32m      2\u001b[39m \u001b[38;5;28;01mfor\u001b[39;00m charger \u001b[38;5;129;01min\u001b[39;00m chargers:\n\u001b[32m      3\u001b[39m     \u001b[38;5;28mprint\u001b[39m(charger)\n\u001b[32m----> \u001b[39m\u001b[32m4\u001b[39m     \u001b[38;5;28mprint\u001b[39m(\u001b[43mcharger\u001b[49m\u001b[43m.\u001b[49m\u001b[43mis_available\u001b[49m())\n",
      "\u001b[31mAttributeError\u001b[39m: 'Charger' object has no attribute 'is_available'"
     ]
    }
   ],
   "source": [
    "refreshData()\n",
    "for charger in chargers:\n",
    "    print(charger)\n",
    "    print(charger.is_available())"
   ]
  },
  {
   "cell_type": "code",
   "execution_count": 77,
   "id": "f14393b8-b568-45e1-89b9-0cf409d5c9a4",
   "metadata": {},
   "outputs": [],
   "source": [
    "# def compare():\n",
    "#     for charger in chargers if charger.is_online():\n",
    "#         if charger.name not in onlinePastChargers:\n",
    "#             print(f\"following charger is now available: {charger}\")"
   ]
  },
  {
   "cell_type": "code",
   "execution_count": null,
   "id": "43eb403c-84ec-44c5-b9f1-59e9b9744ce4",
   "metadata": {},
   "outputs": [],
   "source": [
    "#todo start server die pollt en availability vergelijk\n",
    "import schedule\n",
    "import time\n",
    "\n",
    "schedule.every(1).minutes.do(refreshData)"
   ]
  }
 ],
 "metadata": {
  "kernelspec": {
   "display_name": "Python 3 (ipykernel)",
   "language": "python",
   "name": "python3"
  },
  "language_info": {
   "codemirror_mode": {
    "name": "ipython",
    "version": 3
   },
   "file_extension": ".py",
   "mimetype": "text/x-python",
   "name": "python",
   "nbconvert_exporter": "python",
   "pygments_lexer": "ipython3",
   "version": "3.12.10"
  }
 },
 "nbformat": 4,
 "nbformat_minor": 5
}
