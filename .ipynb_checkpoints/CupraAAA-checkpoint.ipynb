{
 "cells": [
  {
   "cell_type": "markdown",
   "id": "9442ff03-cea7-4630-ab34-ab546e142149",
   "metadata": {},
   "source": [
    "# AAA"
   ]
  },
  {
   "cell_type": "markdown",
   "id": "d24c29a0-7c03-4d20-a75f-ece513be1ecc",
   "metadata": {},
   "source": [
    "## chargers\n",
    "- openchargemap => te weinig laders\n",
    "- chargefinder => website scrapen en niet accuraat\n",
    "- google => geen cegeka laders\n",
    "- luminus => ok voor publieke laders, prive laders enkel hoeveel en hoeveel kapot, niet vrij/busy\n",
    "- chargemap 2 => login lukt niet"
   ]
  },
  {
   "cell_type": "code",
   "execution_count": 6,
   "id": "f846d787-caa9-4ab6-bf88-bb97ea77c041",
   "metadata": {},
   "outputs": [],
   "source": [
    "import requests\n",
    "from pprint import pprint"
   ]
  },
  {
   "cell_type": "code",
   "execution_count": 20,
   "id": "730290a2-c4a4-4982-a55e-c9bdfbd33ea5",
   "metadata": {},
   "outputs": [],
   "source": [
    "#url = 'https://luminus.evc-net.com/api/ajax?requests=%7B%220%22%3A%7B%22handler%22%3A%22%5C%5CLMS%5C%5CEV%5C%5CAsyncServices%5C%5CDashboardAsyncService%22%2C%22method%22%3A%22spotsStatusPointData%22%2C%22params%22%3A%7B%22deviceIds%22%3A%5B156888067%2C156888068%5D%2C%22tariffProvider%22%3A250%7D%7D%7D&metricKey=DeviceMap_1037'\n",
    "url = 'https://luminus.evc-net.com/api/ajax?requests=%7B%220%22%3A%7B%22handler%22%3A%22%5C%5CLMS%5C%5CEV%5C%5CAsyncServices%5C%5CDashboardAsyncService%22%2C%22method%22%3A%22spotsStatusPointData%22%2C%22params%22%3A%7B%22deviceIds%22%3A%5B154435032%2C154435033%5D%2C%22tariffProvider%22%3A250%7D%7D%7D&metricKey=DeviceMap_1037'\n",
    "\n",
    "#url = 'https://map.chargemap.com/community/pool/240912/stations.json?locale=en-GB'\n",
    "\n",
    "x = requests.get(url)"
   ]
  },
  {
   "cell_type": "code",
   "execution_count": 57,
   "id": "1d384741-d931-4d0c-bd5a-e14ad7cde64c",
   "metadata": {},
   "outputs": [],
   "source": [
    "class Charger:\n",
    "    def __init__(self, name, adress, lat, long, availability, max_watt, price):\n",
    "        self.name = name\n",
    "        self.adress = adress\n",
    "        self.lat = lat\n",
    "        self.long = long\n",
    "        self.availability = availability\n",
    "        self.max_watt = max_watt\n",
    "    \n",
    "    def __str__(self):\n",
    "        return f\"{self.name} ({self.adress}): {self.availability} (max {self.max_watt})\""
   ]
  },
  {
   "cell_type": "code",
   "execution_count": 58,
   "id": "5445617b-491d-4d2e-bf9f-cedf820e91f2",
   "metadata": {},
   "outputs": [],
   "source": [
    "def get_availability(availability):\n",
    "        match(availability):\n",
    "            case 1:\n",
    "                return 'available'\n",
    "            case 2:\n",
    "                return 'broken'\n",
    "            case 3:\n",
    "                return 'in use'\n",
    "\n",
    "def mapChargers(charger):\n",
    "    return Charger(\n",
    "        charger['evseId'], \n",
    "        charger['location']['address'], \n",
    "        charger['latitude'], \n",
    "        charger['longitude'], \n",
    "        get_availability(charger['globalStatus']), \n",
    "        charger['maxPower'],\n",
    "        0\n",
    "  )\n",
    "# name = charger['evseId']\n",
    "# adress = charger['location']['address']\n",
    "# lat = charger['latitude']\n",
    "# long = charger['longitude']\n",
    "# availability = charger['globalStatus']\n",
    "# max_watt = charger['maxPower']\n",
    "# price = charger['simpleTariff'] # obj, needs calculation"
   ]
  },
  {
   "cell_type": "code",
   "execution_count": 59,
   "id": "d4d6d4d4-ae0f-4075-841b-dc3388e122de",
   "metadata": {},
   "outputs": [
    {
     "name": "stdout",
     "output_type": "stream",
     "text": [
      "BEALLEGO0020691 (Aststraat 1): in use (max 11.0 kW)\n",
      "BEALLEGO0020692 (Aststraat 1): available (max 11.0 kW)\n"
     ]
    }
   ],
   "source": [
    "chargers = [mapChargers(charger) for charger in x.json()[0]]\n",
    "\n",
    "for charger in chargers:\n",
    "    print(charger)"
   ]
  },
  {
   "cell_type": "code",
   "execution_count": null,
   "id": "43eb403c-84ec-44c5-b9f1-59e9b9744ce4",
   "metadata": {},
   "outputs": [],
   "source": []
  },
  {
   "cell_type": "code",
   "execution_count": null,
   "id": "f14393b8-b568-45e1-89b9-0cf409d5c9a4",
   "metadata": {},
   "outputs": [],
   "source": []
  }
 ],
 "metadata": {
  "kernelspec": {
   "display_name": "Python 3 (ipykernel)",
   "language": "python",
   "name": "python3"
  },
  "language_info": {
   "codemirror_mode": {
    "name": "ipython",
    "version": 3
   },
   "file_extension": ".py",
   "mimetype": "text/x-python",
   "name": "python",
   "nbconvert_exporter": "python",
   "pygments_lexer": "ipython3",
   "version": "3.12.10"
  }
 },
 "nbformat": 4,
 "nbformat_minor": 5
}
