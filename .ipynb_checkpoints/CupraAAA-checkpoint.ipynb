{
 "cells": [
  {
   "cell_type": "markdown",
   "id": "9442ff03-cea7-4630-ab34-ab546e142149",
   "metadata": {},
   "source": [
    "# AAA"
   ]
  },
  {
   "cell_type": "markdown",
   "id": "d24c29a0-7c03-4d20-a75f-ece513be1ecc",
   "metadata": {},
   "source": [
    "## chargers\n",
    "- openchargemap => te weinig laders\n",
    "- chargefinder => website scrapen en niet accuraat\n",
    "- google => geen cegeka laders\n",
    "- luminus => ok voor publieke laders, prive laders enkel hoeveel en hoeveel kapot, niet vrij/busy\n",
    "- chargemap 2 => login lukt niet\n",
    "- alois heeft ook nog 1 gevonden"
   ]
  },
  {
   "cell_type": "code",
   "execution_count": 7,
   "id": "f846d787-caa9-4ab6-bf88-bb97ea77c041",
   "metadata": {
    "editable": true,
    "slideshow": {
     "slide_type": ""
    },
    "tags": []
   },
   "outputs": [],
   "source": [
    "import requests\n",
    "from pprint import pprint\n",
    "from slack_sdk.webhook import WebhookClient\n",
    "import os"
   ]
  },
  {
   "cell_type": "code",
   "execution_count": 3,
   "id": "ac40d689-b8f4-447f-b302-22e1c029f2b8",
   "metadata": {},
   "outputs": [],
   "source": [
    "slack_url = os.environ[\"SLACK_WEBHOOK_URL\"]"
   ]
  },
  {
   "cell_type": "code",
   "execution_count": 8,
   "id": "1d384741-d931-4d0c-bd5a-e14ad7cde64c",
   "metadata": {
    "editable": true,
    "slideshow": {
     "slide_type": ""
    },
    "tags": []
   },
   "outputs": [],
   "source": [
    "class Charger:\n",
    "    def __init__(self, name, adress, lat, long, availability, max_watt, price):\n",
    "        self.name = name\n",
    "        self.adress = adress\n",
    "        self.lat = lat\n",
    "        self.long = long\n",
    "        self.availability = availability\n",
    "        self.max_watt = max_watt\n",
    "    \n",
    "    def is_available(self):\n",
    "        return self.availability == 'available'\n",
    "        \n",
    "    def __str__(self):\n",
    "        return f\"{self.name} ({self.adress}): {self.availability} (max {self.max_watt})\""
   ]
  },
  {
   "cell_type": "code",
   "execution_count": 3,
   "id": "5445617b-491d-4d2e-bf9f-cedf820e91f2",
   "metadata": {},
   "outputs": [],
   "source": [
    "def get_availability(availability):\n",
    "        match(availability):\n",
    "            case 1:\n",
    "                return 'available'\n",
    "            case 2:\n",
    "                return 'broken'\n",
    "            case 3:\n",
    "                return 'in use'\n",
    "\n",
    "def mapChargers(charger):\n",
    "    return Charger(\n",
    "        charger['evseId'], \n",
    "        charger['location']['address'], \n",
    "        charger['latitude'], \n",
    "        charger['longitude'], \n",
    "        get_availability(charger['globalStatus']), \n",
    "        charger['maxPower'],\n",
    "        0\n",
    "  )\n",
    "# name = charger['evseId']\n",
    "# adress = charger['location']['address']\n",
    "# lat = charger['latitude']\n",
    "# long = charger['longitude']\n",
    "# availability = charger['globalStatus']\n",
    "# max_watt = charger['maxPower']\n",
    "# price = charger['simpleTariff'] # obj, needs calculation"
   ]
  },
  {
   "cell_type": "code",
   "execution_count": 6,
   "id": "730290a2-c4a4-4982-a55e-c9bdfbd33ea5",
   "metadata": {},
   "outputs": [],
   "source": [
    "def refreshData():\n",
    "    urls = [\n",
    "        #r'https://luminus.evc-net.com/api/ajax?requests=%7B%220%22%3A%7B%22handler%22%3A%22%5C%5CLMS%5C%5CEV%5C%5CAsyncServices%5C%5CDashboardAsyncService%22%2C%22method%22%3A%22spotsStatusPointData%22%2C%22params%22%3A%7B%22deviceIds%22%3A%5B156888067%2C156888068%5D%2C%22tariffProvider%22%3A250%7D%7D%7D&metricKey=DeviceMap_1037'\n",
    "        r'https://luminus.evc-net.com/api/ajax?requests=%7B%220%22%3A%7B%22handler%22%3A%22%5C%5CLMS%5C%5CEV%5C%5CAsyncServices%5C%5CDashboardAsyncService%22%2C%22method%22%3A%22spotsStatusPointData%22%2C%22params%22%3A%7B%22deviceIds%22%3A%5B154435032%2C154435033%5D%2C%22tariffProvider%22%3A250%7D%7D%7D&metricKey=DeviceMap_1037'\n",
    "        #todo voeg andere chargers ook toe\n",
    "    ]\n",
    "\n",
    "    # if not chargers:\n",
    "    #     return\n",
    "    \n",
    "    # onlinePastChargers = {}\n",
    "    # for charger in chargers:\n",
    "    #     if charger.is-online():\n",
    "    #         onlinePastChargers[charger.name] = charger\n",
    "        \n",
    "    responses = [requests.get(url) for url in urls]\n",
    "    data = [response_charger \n",
    "            for response_chargers in responses \n",
    "            for response_charger in response_chargers.json()[0]]\n",
    "    return data"
   ]
  },
  {
   "cell_type": "code",
   "execution_count": 10,
   "id": "d4d6d4d4-ae0f-4075-841b-dc3388e122de",
   "metadata": {},
   "outputs": [
    {
     "name": "stdout",
     "output_type": "stream",
     "text": [
      "BEALLEGO0020692 (Aststraat 1): available (max 11.0 kW)\n"
     ]
    }
   ],
   "source": [
    "# data = refreshData()\n",
    "chargers = [mapChargers(charger) for charger in data]\n",
    "\n",
    "for charger in chargers:\n",
    "    if charger.is_available():\n",
    "        print(charger)"
   ]
  },
  {
   "cell_type": "code",
   "execution_count": 9,
   "id": "681a7af9-7506-460d-ae78-203488316e33",
   "metadata": {},
   "outputs": [],
   "source": [
    "webhook = WebhookClient(slack_url)"
   ]
  },
  {
   "cell_type": "code",
   "execution_count": 12,
   "id": "1d04d347-3c65-476a-8811-633415f7109c",
   "metadata": {},
   "outputs": [],
   "source": [
    "def map_block(block):\n",
    "    return {\n",
    "                \"type\": \"section\",\n",
    "                \"text\": {\n",
    "                    \"type\": \"mrkdwn\",\n",
    "                    \"text\": block\n",
    "                }\n",
    "            }\n",
    "\n",
    "def send_message_to_slack(text, blocks=None):\n",
    "    if blocks is None:\n",
    "        webhook.send(text=text)\n",
    "        return\n",
    "\n",
    "    blocks = [map_block(block) for block in blocks]\n",
    "    webhook.send(text=text, blocks=blocks)"
   ]
  },
  {
   "cell_type": "code",
   "execution_count": 14,
   "id": "30ddbcc9-55a8-45b1-809c-dec1b223e381",
   "metadata": {},
   "outputs": [],
   "source": [
    "send_message_to_slack(\"# h1 Heading 8-)\")"
   ]
  },
  {
   "cell_type": "code",
   "execution_count": 77,
   "id": "f14393b8-b568-45e1-89b9-0cf409d5c9a4",
   "metadata": {},
   "outputs": [],
   "source": [
    "# def compare():\n",
    "#     for charger in chargers if charger.is_online():\n",
    "#         if charger.name not in onlinePastChargers:\n",
    "#             print(f\"following charger is now available: {charger}\")"
   ]
  },
  {
   "cell_type": "code",
   "execution_count": null,
   "id": "43eb403c-84ec-44c5-b9f1-59e9b9744ce4",
   "metadata": {},
   "outputs": [],
   "source": [
    "#todo start server die pollt en availability vergelijk\n",
    "import schedule\n",
    "import time\n",
    "\n",
    "schedule.every(1).minutes.do(refreshData)"
   ]
  },
  {
   "cell_type": "code",
   "execution_count": null,
   "id": "d6933939-89d0-4ed3-8450-38d48fe8ae75",
   "metadata": {},
   "outputs": [],
   "source": [
    "# # Slack\n",
    "# ## Setup\n",
    "# from slack_sdk.webhook import WebhookClient\n",
    "# import os\n",
    "# webhook = WebhookClient(os.environ[\"SLACK_WEBHOOK_URL\"])\n",
    "# ## function\n",
    "# def send_message_to_slack(text):\n",
    "#     webhook.send(text=text)\n",
    "# ## example\n",
    "# send_message_to_slack(\"tung tung tung tung tung tung sahur\")"
   ]
  }
 ],
 "metadata": {
  "kernelspec": {
   "display_name": "Python 3 (ipykernel)",
   "language": "python",
   "name": "python3"
  },
  "language_info": {
   "codemirror_mode": {
    "name": "ipython",
    "version": 3
   },
   "file_extension": ".py",
   "mimetype": "text/x-python",
   "name": "python",
   "nbconvert_exporter": "python",
   "pygments_lexer": "ipython3",
   "version": "3.12.10"
  }
 },
 "nbformat": 4,
 "nbformat_minor": 5
}
